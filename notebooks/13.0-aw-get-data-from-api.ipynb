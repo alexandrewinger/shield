{
 "cells": [
  {
   "cell_type": "code",
   "execution_count": 1,
   "metadata": {},
   "outputs": [],
   "source": [
    "import requests\n",
    "import json\n",
    "import os\n",
    "from pathlib import Path\n",
    "import pandas as pd\n",
    "path_logs = \"../logs\""
   ]
  },
  {
   "cell_type": "code",
   "execution_count": 2,
   "metadata": {},
   "outputs": [],
   "source": [
    "header_admin = {\"identification\": \"admin:4dmin\"}\n",
    "localhost = \"127.0.0.1\"  # or \"api\""
   ]
  },
  {
   "cell_type": "markdown",
   "metadata": {},
   "source": [
    "### Get all users"
   ]
  },
  {
   "cell_type": "code",
   "execution_count": 3,
   "metadata": {},
   "outputs": [
    {
     "data": {
      "text/plain": [
       "{'detail': 'Not Found'}"
      ]
     },
     "execution_count": 3,
     "metadata": {},
     "output_type": "execute_result"
    }
   ],
   "source": [
    "### Get all users:\n",
    "response = requests.get(url=f\"http://{localhost}:8000/users\",\n",
    "                        headers=header_admin)\n",
    "response.json()"
   ]
  },
  {
   "cell_type": "code",
   "execution_count": 11,
   "metadata": {},
   "outputs": [
    {
     "data": {
      "text/plain": [
       "dict_keys(['fdo', 'admin', 'policierA', 'policierB'])"
      ]
     },
     "execution_count": 11,
     "metadata": {},
     "output_type": "execute_result"
    }
   ],
   "source": [
    "response.json().keys()"
   ]
  },
  {
   "cell_type": "markdown",
   "metadata": {},
   "source": [
    "### Get logs"
   ]
  },
  {
   "cell_type": "code",
   "execution_count": 4,
   "metadata": {},
   "outputs": [
    {
     "name": "stdout",
     "output_type": "stream",
     "text": [
      "f1_scores loaded.\n",
      "preds_call loaded.\n",
      "preds_labeled loaded.\n",
      "preds_test loaded.\n",
      "train loaded.\n",
      "update_data loaded.\n"
     ]
    }
   ],
   "source": [
    "# test sur tous les fichiers présents:\n",
    "filenames = os.listdir(path_logs)\n",
    "for filename in filenames:\n",
    "    splitted = filename.split(\".\")[0]\n",
    "    response = requests.post(url=f\"http://{localhost}:8000/get_logs\",\n",
    "                            json={\"name\": splitted},\n",
    "                            headers=header_admin)\n",
    "    print(f\"{splitted} loaded.\")"
   ]
  },
  {
   "cell_type": "code",
   "execution_count": 35,
   "metadata": {},
   "outputs": [
    {
     "name": "stdout",
     "output_type": "stream",
     "text": [
      "dict_keys(['request_id', 'index', 'time_stamp', 'user_name', 'context', 'response_status_code', 'output_prediction', 'verified_prediction', 'model version', 'prediction_time', 'input_features'])\n"
     ]
    }
   ],
   "source": [
    "response = requests.post(url=f\"http://{localhost}:8000/get_logs\",\n",
    "                        json={\"name\": \"preds_test\"},\n",
    "                        headers=header_admin)\n",
    "data_jsonl = response.json()\n",
    "print(data_jsonl[1].keys())"
   ]
  },
  {
   "cell_type": "code",
   "execution_count": 36,
   "metadata": {},
   "outputs": [
    {
     "data": {
      "text/plain": [
       "dict_keys(['request_id', 'index', 'time_stamp', 'user_name', 'context', 'response_status_code', 'output_prediction', 'verified_prediction', 'model version', 'prediction_time', 'input_features'])"
      ]
     },
     "execution_count": 36,
     "metadata": {},
     "output_type": "execute_result"
    }
   ],
   "source": [
    "data_json = data_jsonl[0]\n",
    "data_json.keys()"
   ]
  },
  {
   "cell_type": "code",
   "execution_count": 37,
   "metadata": {},
   "outputs": [],
   "source": [
    "def delecte_dict(data):\n",
    "    dicts_to_delete = [\n",
    "        \"input_features\", \n",
    "        \"estimator_parameters\", \n",
    "        \"feature_importances\"\n",
    "    ]\n",
    "    for entry in dicts_to_delete:\n",
    "        if entry in data:\n",
    "            del data[entry]\n",
    "    return data"
   ]
  },
  {
   "cell_type": "code",
   "execution_count": 38,
   "metadata": {},
   "outputs": [
    {
     "data": {
      "text/plain": [
       "dict_keys(['request_id', 'index', 'time_stamp', 'user_name', 'context', 'response_status_code', 'output_prediction', 'verified_prediction', 'model version', 'prediction_time'])"
      ]
     },
     "execution_count": 38,
     "metadata": {},
     "output_type": "execute_result"
    }
   ],
   "source": [
    "data_json = delecte_dict(data_json)\n",
    "data_json.keys()\n"
   ]
  },
  {
   "cell_type": "code",
   "execution_count": 27,
   "metadata": {},
   "outputs": [
    {
     "data": {
      "text/plain": [
       "{'request_id': '0096919261035789',\n",
       " 'index': 8205,\n",
       " 'time_stamp': '2024-05-17 14:04:07.086457',\n",
       " 'user_name': 'admin',\n",
       " 'context': 'test',\n",
       " 'response_status_code': 200,\n",
       " 'output_prediction': 0,\n",
       " 'verified_prediction': 1,\n",
       " 'model version': 'rdf_v1.0_shield.joblib',\n",
       " 'prediction_time': 0.02099156379699707}"
      ]
     },
     "execution_count": 27,
     "metadata": {},
     "output_type": "execute_result"
    }
   ],
   "source": [
    "data_json"
   ]
  },
  {
   "cell_type": "code",
   "execution_count": 48,
   "metadata": {},
   "outputs": [],
   "source": [
    "def jsonl_to_df(data_jsonl):\n",
    "    new_jsonl = []\n",
    "    for line in data_jsonl:\n",
    "        data_json = delecte_dict(line)\n",
    "        new_jsonl.append(data_json)\n",
    "\n",
    "    # Ouvrir un fichier en mode écriture\n",
    "    with open('data.jsonl', 'w') as file:\n",
    "        for data in new_jsonl:\n",
    "            # Convertir le dictionnaire en chaîne JSON et écrire dans le fichier\n",
    "            file.write(json.dumps(data) + '\\n')\n",
    "\n",
    "    df = pd.read_json('data.jsonl', lines=True)\n",
    "\n",
    "    return df"
   ]
  },
  {
   "cell_type": "code",
   "execution_count": 49,
   "metadata": {},
   "outputs": [
    {
     "data": {
      "text/html": [
       "<div>\n",
       "<style scoped>\n",
       "    .dataframe tbody tr th:only-of-type {\n",
       "        vertical-align: middle;\n",
       "    }\n",
       "\n",
       "    .dataframe tbody tr th {\n",
       "        vertical-align: top;\n",
       "    }\n",
       "\n",
       "    .dataframe thead th {\n",
       "        text-align: right;\n",
       "    }\n",
       "</style>\n",
       "<table border=\"1\" class=\"dataframe\">\n",
       "  <thead>\n",
       "    <tr style=\"text-align: right;\">\n",
       "      <th></th>\n",
       "      <th>request_id</th>\n",
       "      <th>index</th>\n",
       "      <th>time_stamp</th>\n",
       "      <th>user_name</th>\n",
       "      <th>context</th>\n",
       "      <th>response_status_code</th>\n",
       "      <th>output_prediction</th>\n",
       "      <th>verified_prediction</th>\n",
       "      <th>model version</th>\n",
       "      <th>prediction_time</th>\n",
       "    </tr>\n",
       "  </thead>\n",
       "  <tbody>\n",
       "    <tr>\n",
       "      <th>0</th>\n",
       "      <td>96919261035789</td>\n",
       "      <td>8205</td>\n",
       "      <td>2024-05-17 14:04:07.086457</td>\n",
       "      <td>admin</td>\n",
       "      <td>test</td>\n",
       "      <td>200</td>\n",
       "      <td>0</td>\n",
       "      <td>1</td>\n",
       "      <td>rdf_v1.0_shield.joblib</td>\n",
       "      <td>0.020992</td>\n",
       "    </tr>\n",
       "    <tr>\n",
       "      <th>1</th>\n",
       "      <td>3879502289105825</td>\n",
       "      <td>8206</td>\n",
       "      <td>2024-05-17 14:06:00.890132</td>\n",
       "      <td>admin</td>\n",
       "      <td>test</td>\n",
       "      <td>200</td>\n",
       "      <td>1</td>\n",
       "      <td>1</td>\n",
       "      <td>rdf_v1.0_shield.joblib</td>\n",
       "      <td>0.018996</td>\n",
       "    </tr>\n",
       "    <tr>\n",
       "      <th>2</th>\n",
       "      <td>9686126869792342</td>\n",
       "      <td>8207</td>\n",
       "      <td>2024-05-17 14:06:01.762695</td>\n",
       "      <td>admin</td>\n",
       "      <td>test</td>\n",
       "      <td>200</td>\n",
       "      <td>0</td>\n",
       "      <td>0</td>\n",
       "      <td>rdf_v1.0_shield.joblib</td>\n",
       "      <td>0.018001</td>\n",
       "    </tr>\n",
       "  </tbody>\n",
       "</table>\n",
       "</div>"
      ],
      "text/plain": [
       "         request_id  index                  time_stamp user_name context  \\\n",
       "0    96919261035789   8205  2024-05-17 14:04:07.086457     admin    test   \n",
       "1  3879502289105825   8206  2024-05-17 14:06:00.890132     admin    test   \n",
       "2  9686126869792342   8207  2024-05-17 14:06:01.762695     admin    test   \n",
       "\n",
       "   response_status_code  output_prediction  verified_prediction  \\\n",
       "0                   200                  0                    1   \n",
       "1                   200                  1                    1   \n",
       "2                   200                  0                    0   \n",
       "\n",
       "            model version  prediction_time  \n",
       "0  rdf_v1.0_shield.joblib         0.020992  \n",
       "1  rdf_v1.0_shield.joblib         0.018996  \n",
       "2  rdf_v1.0_shield.joblib         0.018001  "
      ]
     },
     "execution_count": 49,
     "metadata": {},
     "output_type": "execute_result"
    }
   ],
   "source": [
    "df = jsonl_to_df(data_jsonl)\n",
    "df.head(3)"
   ]
  },
  {
   "cell_type": "code",
   "execution_count": null,
   "metadata": {},
   "outputs": [],
   "source": []
  }
 ],
 "metadata": {
  "kernelspec": {
   "display_name": "my_env",
   "language": "python",
   "name": "python3"
  },
  "language_info": {
   "codemirror_mode": {
    "name": "ipython",
    "version": 3
   },
   "file_extension": ".py",
   "mimetype": "text/x-python",
   "name": "python",
   "nbconvert_exporter": "python",
   "pygments_lexer": "ipython3",
   "version": "3.11.8"
  }
 },
 "nbformat": 4,
 "nbformat_minor": 2
}
